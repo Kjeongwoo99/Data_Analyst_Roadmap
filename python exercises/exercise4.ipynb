{
 "cells": [
  {
   "cell_type": "code",
   "execution_count": 3,
   "metadata": {},
   "outputs": [
    {
     "name": "stdout",
     "output_type": "stream",
     "text": [
      "Number is too small\n",
      "Number is too small\n",
      "Number is too small\n",
      "Number is too small\n",
      "Number is too small\n",
      "Number is too small\n",
      "Number is too small\n",
      "You guessed it correctly\n"
     ]
    }
   ],
   "source": [
    "# while loop game \n",
    "import random\n",
    "n = 20 \n",
    "to_be_guessed = int(n * random.random()) + 1 \n",
    "guess = 0 \n",
    "\n",
    "while guess != to_be_guessed:\n",
    "    guess = int(input(\"New number: \"))\n",
    "    if guess > 0 :\n",
    "        if guess > to_be_guessed:\n",
    "            print(\"Number is too large\")\n",
    "        elif guess < to_be_guessed:\n",
    "            print(\"Number is too small\")\n",
    "    else:\n",
    "        print(\"Sorry that you're giving up\")\n",
    "        break\n",
    "else:\n",
    "    print(\"You guessed it correctly\")"
   ]
  },
  {
   "cell_type": "code",
   "execution_count": 6,
   "metadata": {},
   "outputs": [
    {
     "name": "stdout",
     "output_type": "stream",
     "text": [
      "current fruit: mango\n",
      "current fruit: grapes\n",
      "current fruit: apple\n",
      "24\n"
     ]
    }
   ],
   "source": [
    "# for loop \n",
    "fruits = ['mango', 'grapes', 'apple']\n",
    "for fruit in fruits:\n",
    "    print(\"current fruit:\", fruit)\n",
    "\n",
    "# find factorial \n",
    "num = int(input(\"Number:\"))\n",
    "factorial = 1\n",
    "if num < 0:\n",
    "    print(\"Must be positive\")\n",
    "elif num == 0:\n",
    "    print(\"factorial = 1\")\n",
    "else:\n",
    "    for i in range(1, num+1):\n",
    "        factorial = factorial * i\n",
    "print(factorial)"
   ]
  },
  {
   "cell_type": "code",
   "execution_count": 9,
   "metadata": {},
   "outputs": [
    {
     "name": "stdout",
     "output_type": "stream",
     "text": [
      "Welcome to BMO ATM\n",
      "You enterted your PIN correctly\n",
      "\n",
      "Please Press 1 For Your Balance\n",
      "\n",
      "Please Press 2 To Make Withdrawl\n",
      "\n",
      "Please Press 3 To Pay in\n",
      "\n",
      "Please Press 4 To Return Card\n",
      "\n",
      "\n",
      "Your balance is now $ 47.14\n",
      "Thank you\n"
     ]
    },
    {
     "ename": "ValueError",
     "evalue": "invalid literal for int() with base 10: ''",
     "output_type": "error",
     "traceback": [
      "\u001b[0;31m---------------------------------------------------------------------------\u001b[0m",
      "\u001b[0;31mValueError\u001b[0m                                Traceback (most recent call last)",
      "Cell \u001b[0;32mIn[9], line 9\u001b[0m\n\u001b[1;32m      6\u001b[0m balance \u001b[38;5;241m=\u001b[39m \u001b[38;5;241m67.14\u001b[39m\n\u001b[1;32m      8\u001b[0m \u001b[38;5;28;01mwhile\u001b[39;00m chances \u001b[38;5;241m>\u001b[39m\u001b[38;5;241m=\u001b[39m \u001b[38;5;241m0\u001b[39m:\n\u001b[0;32m----> 9\u001b[0m     pin \u001b[38;5;241m=\u001b[39m \u001b[38;5;28;43mint\u001b[39;49m\u001b[43m(\u001b[49m\u001b[38;5;28;43minput\u001b[39;49m\u001b[43m(\u001b[49m\u001b[38;5;124;43m\"\u001b[39;49m\u001b[38;5;124;43mEnter your 4 digit PIN: \u001b[39;49m\u001b[38;5;124;43m\"\u001b[39;49m\u001b[43m)\u001b[49m\u001b[43m)\u001b[49m\n\u001b[1;32m     10\u001b[0m     \u001b[38;5;28;01mif\u001b[39;00m pin \u001b[38;5;241m==\u001b[39m (\u001b[38;5;241m1234\u001b[39m):\n\u001b[1;32m     11\u001b[0m         \u001b[38;5;28mprint\u001b[39m(\u001b[38;5;124m'\u001b[39m\u001b[38;5;124mYou enterted your PIN correctly\u001b[39m\u001b[38;5;130;01m\\n\u001b[39;00m\u001b[38;5;124m'\u001b[39m)\n",
      "\u001b[0;31mValueError\u001b[0m: invalid literal for int() with base 10: ''"
     ]
    }
   ],
   "source": [
    "# nested loops - bank atm \n",
    "\n",
    "print('Welcome to BMO ATM')\n",
    "restart = 'Y'\n",
    "chances = 3\n",
    "balance = 67.14\n",
    "\n",
    "while chances >= 0:\n",
    "    pin = int(input(\"Enter your 4 digit PIN: \"))\n",
    "    if pin == (1234):\n",
    "        print('You enterted your PIN correctly\\n')\n",
    "        while restart not in ('n', 'NO', 'no', 'N'):\n",
    "            print('Please Press 1 For Your Balance\\n')\n",
    "            print('Please Press 2 To Make Withdrawl\\n')\n",
    "            print('Please Press 3 To Pay in\\n')\n",
    "            print('Please Press 4 To Return Card\\n')\n",
    "            option = int(input('What would you like to choose?'))\n",
    "            if option == 1:\n",
    "                print('Your balance is $', balance, '\\n')\n",
    "                restart = input(\"Would you like to go back? \")\n",
    "                if restart in ('n', 'NO', 'no', 'N'):\n",
    "                    print('Thank you')\n",
    "                    break \n",
    "            elif option == 2:\n",
    "                option2 = ('y')\n",
    "                withdrawl = float(input(\"How much would you like to withdraw? \\n$10/$20/$40/$60/$80/$100\"))\n",
    "                if withdrawl in [10,20,40,60,80,100]:\n",
    "                    balance -= withdrawl\n",
    "                    print('\\nYour balance is now $',balance)\n",
    "                    restart = input(\"Would you like to go back? \")\n",
    "                    if restart in ('n', 'NO', 'no', 'N'):\n",
    "                        print('Thank you')\n",
    "                        break \n",
    "                elif withdrawl != [10,20,40,60,80,100]:\n",
    "                    print('Invalid amount. Please re-try\\n')\n",
    "                    restart = ('y')\n",
    "                elif withdrawl == 1:\n",
    "                    withdrawl = float(input(\"Please Enter desired amount\"))\n",
    "            elif option == 3:\n",
    "                Pay_in = float(input(\"How much would you like to pay in?\"))\n",
    "                balance += Pay_in\n",
    "                print('\\nYour balance is now $', balance)\n",
    "                restart = input(\"Would you like to go back? \")\n",
    "                if restart in ('n', 'NO', 'no', 'N'):\n",
    "                        print('Thank you')\n",
    "                        break\n",
    "            elif option == 4:\n",
    "                print('Please wait while your card is returned...\\n')\n",
    "                print('Thank you for your service.')\n",
    "                break\n",
    "            else:\n",
    "                print(\"Please Enter a correct number. \\n\")\n",
    "                restart = ('y')\n",
    "    elif pin != ('1234'):\n",
    "        print('Incorrect password')\n",
    "        chances -= 1\n",
    "        if chances == 0:\n",
    "            print('\\nNo more tries')\n",
    "            break"
   ]
  },
  {
   "cell_type": "code",
   "execution_count": 10,
   "metadata": {},
   "outputs": [
    {
     "name": "stdout",
     "output_type": "stream",
     "text": [
      "3 4 5\n"
     ]
    }
   ],
   "source": [
    "# nested loops - pythagoras theorm\n",
    "\n",
    "from math import sqrt \n",
    "n = int(input(\"Maximal number?\"))\n",
    "for a in range(1, n+1):\n",
    "    for b in range(a,n):\n",
    "        c_square = a**2 + b**2\n",
    "        c = int(sqrt(c_square))\n",
    "        if ((c_square - c**2) == 0):\n",
    "            print(a,b,c)"
   ]
  },
  {
   "cell_type": "code",
   "execution_count": 1,
   "metadata": {},
   "outputs": [
    {
     "name": "stdout",
     "output_type": "stream",
     "text": [
      "        * \n",
      "\n",
      "       * * \n",
      "\n",
      "      * * * \n",
      "\n",
      "     * * * * \n",
      "\n",
      "    * * * * * \n",
      "\n"
     ]
    }
   ],
   "source": [
    "# pyramid\n",
    "def pyramid(n):\n",
    "    k = 2 * n - 2\n",
    "    for i in range(0, n):\n",
    "        for j in range(0, k):\n",
    "            print(end=\" \")\n",
    "        k -= 1\n",
    "        for j in range(0, i + 1):\n",
    "            print(\"* \", end=\"\")\n",
    "        print(\"\\n\") \n",
    "pyramid(5)"
   ]
  },
  {
   "cell_type": "code",
   "execution_count": 15,
   "metadata": {},
   "outputs": [
    {
     "name": "stdout",
     "output_type": "stream",
     "text": [
      "        * * * * * * * * * * * \n",
      "         * * * * * * * * * * \n",
      "          * * * * * * * * * \n",
      "           * * * * * * * * \n",
      "            * * * * * * * \n",
      "             * * * * * * \n",
      "              * * * * * \n",
      "               * * * * \n",
      "                * * * \n",
      "                 * * \n",
      "                  * \n"
     ]
    }
   ],
   "source": [
    "# inverse pyramid\n",
    "def inverse_pyramid(n):\n",
    "    k = n - 2\n",
    "    for i in range(n, -1, -1):\n",
    "        for j in range(k, 0, -1):\n",
    "            print(end=\" \")\n",
    "        k += 1\n",
    "        for j in range(0, i + 1):\n",
    "            print(\"* \", end=\"\")\n",
    "        print(\"\\r\")\n",
    "inverse_pyramid(10)"
   ]
  },
  {
   "cell_type": "code",
   "execution_count": 21,
   "metadata": {},
   "outputs": [
    {
     "name": "stdout",
     "output_type": "stream",
     "text": [
      "* \n",
      "* * \n",
      "* * * \n",
      "* * * * \n",
      "* * * * * \n",
      "* * * * * * \n",
      "* * * * * * * \n",
      "* * * * * * * * \n",
      "* * * * * * * * * \n",
      "* * * * * * * * * * \n",
      "* * * * * * * * * * * \n",
      "* * * * * * * * * * \n",
      "* * * * * * * * * \n",
      "* * * * * * * * \n",
      "* * * * * * * \n",
      "* * * * * * \n",
      "* * * * * \n",
      "* * * * \n",
      "* * * \n",
      "* * \n",
      "* \n"
     ]
    }
   ],
   "source": [
    "def pattern(n):\n",
    "    for i in range(0, n):\n",
    "        for j in range(0, i+1):\n",
    "            print(\"* \", end=\"\")\n",
    "        print(\"\\r\")\n",
    "    for i in range(n, -1, -1):\n",
    "        for j in range(0, i+1):\n",
    "            print(\"* \", end=\"\")\n",
    "        print(\"\\r\")\n",
    "pattern(10)"
   ]
  },
  {
   "cell_type": "code",
   "execution_count": 23,
   "metadata": {},
   "outputs": [
    {
     "name": "stdout",
     "output_type": "stream",
     "text": [
      "1 \n",
      "2 2 \n",
      "3 3 3 \n",
      "4 4 4 4 \n",
      "5 5 5 5 5 \n",
      "6 6 6 6 6 6 \n",
      "7 7 7 7 7 7 7 \n"
     ]
    }
   ],
   "source": [
    "def pattern(n):\n",
    "    x = 0\n",
    "    for i in range(0, n):\n",
    "        x += 1 \n",
    "        for j in range(0, i+1):\n",
    "            print(x, end=\" \")\n",
    "        print(\"\\r\")\n",
    "pattern(7)"
   ]
  },
  {
   "cell_type": "code",
   "execution_count": 24,
   "metadata": {},
   "outputs": [
    {
     "data": {
      "text/plain": [
       "9"
      ]
     },
     "execution_count": 24,
     "metadata": {},
     "output_type": "execute_result"
    }
   ],
   "source": [
    "x = lambda a: a*a\n",
    "x(3)"
   ]
  },
  {
   "cell_type": "code",
   "execution_count": 25,
   "metadata": {},
   "outputs": [
    {
     "name": "stdout",
     "output_type": "stream",
     "text": [
      "12\n"
     ]
    }
   ],
   "source": [
    "def A(x):\n",
    "    return(lambda y:y+x)\n",
    "t=A(4)\n",
    "print(t(8))"
   ]
  },
  {
   "cell_type": "code",
   "execution_count": 27,
   "metadata": {},
   "outputs": [
    {
     "name": "stdout",
     "output_type": "stream",
     "text": [
      "[6]\n"
     ]
    }
   ],
   "source": [
    "mylist = [1,2,3,4,5,6]\n",
    "newlist = list(filter(lambda a:(a/3==2), mylist))\n",
    "print(newlist)"
   ]
  },
  {
   "cell_type": "code",
   "execution_count": 28,
   "metadata": {},
   "outputs": [
    {
     "name": "stdout",
     "output_type": "stream",
     "text": [
      "[True, True, True, True, True, False]\n"
     ]
    }
   ],
   "source": [
    "mylist = [1,2,3,4,5,6]\n",
    "p = list(map(lambda a:(a/3!=2), mylist))\n",
    "print(p)"
   ]
  },
  {
   "cell_type": "code",
   "execution_count": null,
   "metadata": {},
   "outputs": [],
   "source": [
    "from functools import reduce\n",
    "reduce(lambda a,b: a+b, [23,56,43,98,1])"
   ]
  },
  {
   "cell_type": "code",
   "execution_count": null,
   "metadata": {},
   "outputs": [],
   "source": [
    "# linear algebra\n",
    "d = lambda x,y: 3*x + 4*y"
   ]
  },
  {
   "cell_type": "code",
   "execution_count": null,
   "metadata": {},
   "outputs": [],
   "source": [
    "# quadratic\n",
    "e = lambda x,y: (x+y)**2"
   ]
  },
  {
   "cell_type": "code",
   "execution_count": 29,
   "metadata": {},
   "outputs": [
    {
     "name": "stdout",
     "output_type": "stream",
     "text": [
      "[1, 4, 9, 16]\n"
     ]
    }
   ],
   "source": [
    "def new(a):\n",
    "    return a*a\n",
    "\n",
    "x=list(map(new,[1,2,3,4]))\n",
    "print(x)"
   ]
  },
  {
   "cell_type": "code",
   "execution_count": 32,
   "metadata": {},
   "outputs": [
    {
     "name": "stdout",
     "output_type": "stream",
     "text": [
      "<generator object new at 0x109befd10>\n"
     ]
    },
    {
     "data": {
      "text/plain": [
       "(1, 'hi')"
      ]
     },
     "execution_count": 32,
     "metadata": {},
     "output_type": "execute_result"
    }
   ],
   "source": [
    "# generators \n",
    "def new(dict):\n",
    "    for x,y in dict.items():\n",
    "        yield x,y\n",
    "a = {1:\"hi\", 2:\"welcome\"}\n",
    "b=new(a)\n",
    "print(b)\n",
    "next(b)"
   ]
  },
  {
   "cell_type": "code",
   "execution_count": 34,
   "metadata": {},
   "outputs": [
    {
     "name": "stdout",
     "output_type": "stream",
     "text": [
      "0 1 1 2 3 5 8 13 21 34 "
     ]
    }
   ],
   "source": [
    "def fib():\n",
    "    f,s=0,1\n",
    "    while True:\n",
    "        yield f\n",
    "        f,s=s,f+s\n",
    "for x in fib():\n",
    "    if x>50:\n",
    "        break\n",
    "    print(x, end=\" \")"
   ]
  }
 ],
 "metadata": {
  "kernelspec": {
   "display_name": "Python 3",
   "language": "python",
   "name": "python3"
  },
  "language_info": {
   "codemirror_mode": {
    "name": "ipython",
    "version": 3
   },
   "file_extension": ".py",
   "mimetype": "text/x-python",
   "name": "python",
   "nbconvert_exporter": "python",
   "pygments_lexer": "ipython3",
   "version": "3.10.7"
  }
 },
 "nbformat": 4,
 "nbformat_minor": 2
}
